{
  "cells": [
    {
      "cell_type": "markdown",
      "metadata": {
        "id": "QzbeyPsPhuGY"
      },
      "source": [
        "# Natural Language Processing with Disaster Tweets"
      ]
    },
    {
      "cell_type": "code",
      "execution_count": 1,
      "metadata": {
        "_cell_guid": "b1076dfc-b9ad-4769-8c92-a6c4dae69d19",
        "_uuid": "8f2839f25d086af736a60e9eeb907d3b93b6e0e5",
        "execution": {
          "iopub.execute_input": "2025-05-01T06:41:51.922906Z",
          "iopub.status.busy": "2025-05-01T06:41:51.922721Z",
          "iopub.status.idle": "2025-05-01T06:41:52.916276Z",
          "shell.execute_reply": "2025-05-01T06:41:52.915390Z",
          "shell.execute_reply.started": "2025-05-01T06:41:51.922888Z"
        },
        "trusted": true,
        "id": "kWBI8KlIhuGa"
      },
      "outputs": [],
      "source": [
        "# This Python 3 environment comes with many helpful analytics libraries installed\n",
        "# It is defined by the kaggle/python Docker image: https://github.com/kaggle/docker-python\n",
        "# For example, here's several helpful packages to load\n",
        "\n",
        "import numpy as np # linear algebra\n",
        "import pandas as pd # data processing, CSV file I/O (e.g. pd.read_csv)\n",
        "\n",
        "# Input data files are available in the read-only \"../input/\" directory\n",
        "# For example, running this (by clicking run or pressing Shift+Enter) will list all files under the input directory\n",
        "\n",
        "import os\n",
        "for dirname, _, filenames in os.walk('/kaggle/input'):\n",
        "    for filename in filenames:\n",
        "        print(os.path.join(dirname, filename))\n",
        "\n",
        "# You can write up to 20GB to the current directory (/kaggle/working/) that gets preserved as output when you create a version using \"Save & Run All\"\n",
        "# You can also write temporary files to /kaggle/temp/, but they won't be saved outside of the current session"
      ]
    },
    {
      "cell_type": "markdown",
      "metadata": {
        "id": "7YnyhFSnhuGb"
      },
      "source": [
        "## Импорт библиотек"
      ]
    },
    {
      "cell_type": "code",
      "execution_count": 2,
      "metadata": {
        "execution": {
          "iopub.execute_input": "2025-05-01T06:43:31.095373Z",
          "iopub.status.busy": "2025-05-01T06:43:31.095077Z",
          "iopub.status.idle": "2025-05-01T06:43:31.098871Z",
          "shell.execute_reply": "2025-05-01T06:43:31.097933Z",
          "shell.execute_reply.started": "2025-05-01T06:43:31.095351Z"
        },
        "trusted": true,
        "id": "8NHCIKPshuGc"
      },
      "outputs": [],
      "source": [
        "import os\n",
        "os.environ['KERAS_BACKEND'] = 'tensorflow'"
      ]
    },
    {
      "cell_type": "code",
      "execution_count": 3,
      "metadata": {
        "execution": {
          "iopub.execute_input": "2025-05-01T06:45:31.274126Z",
          "iopub.status.busy": "2025-05-01T06:45:31.273745Z",
          "iopub.status.idle": "2025-05-01T06:45:31.336674Z",
          "shell.execute_reply": "2025-05-01T06:45:31.335832Z",
          "shell.execute_reply.started": "2025-05-01T06:45:31.274085Z"
        },
        "trusted": true,
        "colab": {
          "base_uri": "https://localhost:8080/"
        },
        "id": "pBthEb1ShuGc",
        "outputId": "c609cc21-eef4-4749-9753-848c1ea2a613"
      },
      "outputs": [
        {
          "output_type": "stream",
          "name": "stdout",
          "text": [
            "Collecting keras-core\n",
            "  Downloading keras_core-0.1.7-py3-none-any.whl.metadata (4.3 kB)\n",
            "Requirement already satisfied: absl-py in /usr/local/lib/python3.11/dist-packages (from keras-core) (1.4.0)\n",
            "Requirement already satisfied: numpy in /usr/local/lib/python3.11/dist-packages (from keras-core) (2.0.2)\n",
            "Requirement already satisfied: rich in /usr/local/lib/python3.11/dist-packages (from keras-core) (13.9.4)\n",
            "Requirement already satisfied: namex in /usr/local/lib/python3.11/dist-packages (from keras-core) (0.1.0)\n",
            "Requirement already satisfied: h5py in /usr/local/lib/python3.11/dist-packages (from keras-core) (3.13.0)\n",
            "Requirement already satisfied: dm-tree in /usr/local/lib/python3.11/dist-packages (from keras-core) (0.1.9)\n",
            "Requirement already satisfied: attrs>=18.2.0 in /usr/local/lib/python3.11/dist-packages (from dm-tree->keras-core) (25.3.0)\n",
            "Requirement already satisfied: wrapt>=1.11.2 in /usr/local/lib/python3.11/dist-packages (from dm-tree->keras-core) (1.17.2)\n",
            "Requirement already satisfied: markdown-it-py>=2.2.0 in /usr/local/lib/python3.11/dist-packages (from rich->keras-core) (3.0.0)\n",
            "Requirement already satisfied: pygments<3.0.0,>=2.13.0 in /usr/local/lib/python3.11/dist-packages (from rich->keras-core) (2.19.1)\n",
            "Requirement already satisfied: mdurl~=0.1 in /usr/local/lib/python3.11/dist-packages (from markdown-it-py>=2.2.0->rich->keras-core) (0.1.2)\n",
            "Downloading keras_core-0.1.7-py3-none-any.whl (950 kB)\n",
            "\u001b[?25l   \u001b[90m━━━━━━━━━━━━━━━━━━━━━━━━━━━━━━━━━━━━━━━━\u001b[0m \u001b[32m0.0/950.8 kB\u001b[0m \u001b[31m?\u001b[0m eta \u001b[36m-:--:--\u001b[0m\r\u001b[2K   \u001b[91m━━━━━━━━━━\u001b[0m\u001b[91m╸\u001b[0m\u001b[90m━━━━━━━━━━━━━━━━━━━━━━━━━━━━━\u001b[0m \u001b[32m256.0/950.8 kB\u001b[0m \u001b[31m7.3 MB/s\u001b[0m eta \u001b[36m0:00:01\u001b[0m\r\u001b[2K   \u001b[90m━━━━━━━━━━━━━━━━━━━━━━━━━━━━━━━━━━━━━━━━\u001b[0m \u001b[32m950.8/950.8 kB\u001b[0m \u001b[31m15.3 MB/s\u001b[0m eta \u001b[36m0:00:00\u001b[0m\n",
            "\u001b[?25hInstalling collected packages: keras-core\n",
            "Successfully installed keras-core-0.1.7\n",
            "Using TensorFlow backend\n",
            "TensorFlow version: 2.18.0\n",
            "KerasNLP version: 0.18.1\n",
            "GPU доступен: [PhysicalDevice(name='/physical_device:GPU:0', device_type='GPU')]\n"
          ]
        }
      ],
      "source": [
        "import numpy as np\n",
        "import pandas as pd\n",
        "import tensorflow as tf\n",
        "!pip install keras-core\n",
        "import keras_core as keras\n",
        "import keras_nlp\n",
        "from sklearn.metrics import ConfusionMatrixDisplay, confusion_matrix\n",
        "import seaborn as sns\n",
        "import matplotlib.pyplot as plt\n",
        "import random\n",
        "\n",
        "from sklearn.model_selection import train_test_split\n",
        "\n",
        "\n",
        "random.seed(42)\n",
        "np.random.seed(42)\n",
        "tf.random.set_seed(42)\n",
        "\n",
        "print(\"TensorFlow version:\", tf.__version__)\n",
        "print(\"KerasNLP version:\", keras_nlp.__version__)\n",
        "print(\"GPU доступен:\", tf.config.list_physical_devices('GPU'))"
      ]
    },
    {
      "cell_type": "markdown",
      "metadata": {
        "id": "YnK3ChUOhuGd"
      },
      "source": [
        "## Загрузка данных"
      ]
    },
    {
      "cell_type": "code",
      "source": [
        "from google.colab import drive\n",
        "drive.mount('/content/drive')"
      ],
      "metadata": {
        "colab": {
          "base_uri": "https://localhost:8080/"
        },
        "id": "Gj1LJ6d8iob6",
        "outputId": "e1d85500-8cc1-4393-f61d-36c30bf3999d"
      },
      "execution_count": 5,
      "outputs": [
        {
          "output_type": "stream",
          "name": "stdout",
          "text": [
            "Mounted at /content/drive\n"
          ]
        }
      ]
    },
    {
      "cell_type": "code",
      "execution_count": 6,
      "metadata": {
        "execution": {
          "iopub.execute_input": "2025-05-01T06:44:04.717682Z",
          "iopub.status.busy": "2025-05-01T06:44:04.717349Z",
          "iopub.status.idle": "2025-05-01T06:44:04.784440Z",
          "shell.execute_reply": "2025-05-01T06:44:04.783666Z",
          "shell.execute_reply.started": "2025-05-01T06:44:04.717656Z"
        },
        "trusted": true,
        "colab": {
          "base_uri": "https://localhost:8080/"
        },
        "id": "nv0GQwqQhuGd",
        "outputId": "991ebc70-a891-4bca-ef55-6354990838b5"
      },
      "outputs": [
        {
          "output_type": "stream",
          "name": "stdout",
          "text": [
            "Training Set Shape = (7613, 5)\n",
            "Training Set Memory Usage = 0.29 MB\n",
            "Test Set Shape = (3263, 4)\n",
            "Test Set Memory Usage = 0.10 MB\n"
          ]
        }
      ],
      "source": [
        "df_train = pd.read_csv(\"/content/drive/MyDrive/Architecture/train.csv\")\n",
        "df_test = pd.read_csv(\"/content/drive/MyDrive/Architecture/test.csv\")\n",
        "\n",
        "print('Training Set Shape = {}'.format(df_train.shape))\n",
        "print('Training Set Memory Usage = {:.2f} MB'.format(df_train.memory_usage().sum() / 1024**2))\n",
        "print('Test Set Shape = {}'.format(df_test.shape))\n",
        "print('Test Set Memory Usage = {:.2f} MB'.format(df_test.memory_usage().sum() / 1024**2))"
      ]
    },
    {
      "cell_type": "markdown",
      "source": [
        "Результаты:\n",
        "Тренировочный набор:\n",
        "\n",
        "* 7613 строк (примеров)\n",
        "\n",
        "* 5 столбцов (признаков)\n",
        "\n",
        "* Занимает 0.29 МБ памяти\n",
        "\n",
        "Тестовый набор:\n",
        "\n",
        "* 3263 строк (примеров)\n",
        "\n",
        "* 4 столбца (признаков) - на 1 меньше, чем в тренировочном\n",
        "\n",
        "* Занимает 0.10 МБ памяти"
      ],
      "metadata": {
        "id": "TfCt17xTt0Do"
      }
    },
    {
      "cell_type": "code",
      "execution_count": 7,
      "metadata": {
        "execution": {
          "iopub.execute_input": "2025-05-01T06:44:20.900313Z",
          "iopub.status.busy": "2025-05-01T06:44:20.900037Z",
          "iopub.status.idle": "2025-05-01T06:44:20.929588Z",
          "shell.execute_reply": "2025-05-01T06:44:20.928803Z",
          "shell.execute_reply.started": "2025-05-01T06:44:20.900293Z"
        },
        "trusted": true,
        "colab": {
          "base_uri": "https://localhost:8080/"
        },
        "id": "sl8b6MVOhuGe",
        "outputId": "d21730ea-6298-452a-d86d-9e0a7bd91e0c"
      },
      "outputs": [
        {
          "output_type": "stream",
          "name": "stdout",
          "text": [
            "Train Length Stat\n",
            "count    7613.000000\n",
            "mean      101.037436\n",
            "std        33.781325\n",
            "min         7.000000\n",
            "25%        78.000000\n",
            "50%       107.000000\n",
            "75%       133.000000\n",
            "max       157.000000\n",
            "Name: length, dtype: float64\n",
            "\n",
            "Test Length Stat\n",
            "count    3263.000000\n",
            "mean      102.108183\n",
            "std        33.972158\n",
            "min         5.000000\n",
            "25%        78.000000\n",
            "50%       109.000000\n",
            "75%       134.000000\n",
            "max       151.000000\n",
            "Name: length, dtype: float64\n"
          ]
        }
      ],
      "source": [
        "df_train[\"length\"] = df_train[\"text\"].apply(lambda x : len(x))\n",
        "df_test[\"length\"] = df_test[\"text\"].apply(lambda x : len(x))\n",
        "\n",
        "print(\"Train Length Stat\")\n",
        "print(df_train[\"length\"].describe())\n",
        "print()\n",
        "\n",
        "print(\"Test Length Stat\")\n",
        "print(df_test[\"length\"].describe())"
      ]
    },
    {
      "cell_type": "markdown",
      "source": [
        "count - количество текстов\n",
        "\n",
        "mean - средняя длина\n",
        "\n",
        "std - стандартное отклонение\n",
        "\n",
        "min/max - минимальная/максимальная длина\n",
        "\n",
        "25%/50%/75% - квартили распределения"
      ],
      "metadata": {
        "id": "zqcttboyuRAK"
      }
    },
    {
      "cell_type": "markdown",
      "metadata": {
        "id": "swujltlzhuGc"
      },
      "source": [
        "## Настройка гиперпараметров"
      ]
    },
    {
      "cell_type": "code",
      "execution_count": 22,
      "metadata": {
        "execution": {
          "iopub.execute_input": "2025-05-01T07:18:57.357950Z",
          "iopub.status.busy": "2025-05-01T07:18:57.357622Z",
          "iopub.status.idle": "2025-05-01T07:18:57.362288Z",
          "shell.execute_reply": "2025-05-01T07:18:57.361209Z",
          "shell.execute_reply.started": "2025-05-01T07:18:57.357926Z"
        },
        "trusted": true,
        "id": "lH72t7iNhuGd"
      },
      "outputs": [],
      "source": [
        "BATCH_SIZE = 32\n",
        "NUM_TRAINING_EXAMPLES = df_train.shape[0]\n",
        "TRAIN_SPLIT = 0.8\n",
        "VAL_SPLIT = 0.2\n",
        "STEPS_PER_EPOCH = int(NUM_TRAINING_EXAMPLES)*TRAIN_SPLIT // BATCH_SIZE\n",
        "\n",
        "EPOCHS = 3\n",
        "AUTO = tf.data.experimental.AUTOTUNE"
      ]
    },
    {
      "cell_type": "markdown",
      "source": [
        "* Размер батча (количество примеров, обрабатываемых за одну итерацию)\n",
        "* Общее количество примеров в тренировочном наборе\n",
        "* Пропорции разделения данных\n",
        "\n",
        "\n",
        "* Расчет количества шагов на эпоху: (общее число примеров * доля тренировки) // размер батча\n",
        "* Количество полных проходов через весь набор данных\n",
        "* Автоматическая настройка параметров загрузки данных для максимальной производительности"
      ],
      "metadata": {
        "id": "4MekRHbeueQZ"
      }
    },
    {
      "cell_type": "code",
      "execution_count": 23,
      "metadata": {
        "execution": {
          "iopub.execute_input": "2025-05-01T06:51:30.079540Z",
          "iopub.status.busy": "2025-05-01T06:51:30.079201Z",
          "iopub.status.idle": "2025-05-01T06:51:30.086739Z",
          "shell.execute_reply": "2025-05-01T06:51:30.086025Z",
          "shell.execute_reply.started": "2025-05-01T06:51:30.079516Z"
        },
        "trusted": true,
        "id": "UT2UFqNFhuGe"
      },
      "outputs": [],
      "source": [
        "X = df_train[\"text\"]\n",
        "y = df_train[\"target\"]\n",
        "X_train, X_val, y_train, y_val = train_test_split(X, y, test_size=VAL_SPLIT, random_state=42)\n",
        "X_test = df_test[\"text\"]"
      ]
    },
    {
      "cell_type": "markdown",
      "metadata": {
        "id": "s5MQAylNhuGf"
      },
      "source": [
        "## Создание и обучение модели"
      ]
    },
    {
      "cell_type": "code",
      "execution_count": 25,
      "metadata": {
        "execution": {
          "iopub.execute_input": "2025-05-01T07:22:36.587777Z",
          "iopub.status.busy": "2025-05-01T07:22:36.587424Z",
          "iopub.status.idle": "2025-05-01T07:22:36.600930Z",
          "shell.execute_reply": "2025-05-01T07:22:36.599851Z",
          "shell.execute_reply.started": "2025-05-01T07:22:36.587750Z"
        },
        "trusted": true,
        "id": "dco5OQinhuGf"
      },
      "outputs": [],
      "source": [
        "import numpy as np\n",
        "import pandas as pd\n",
        "import tensorflow as tf\n",
        "import keras_core as keras\n",
        "import keras_nlp\n",
        "import matplotlib.pyplot as plt\n",
        "from sklearn.metrics import ConfusionMatrixDisplay, confusion_matrix\n",
        "\n",
        "BATCH_SIZE = 32\n",
        "EPOCHS = 3\n",
        "LEARNING_RATE = 5e-6  #\n",
        "AUTO = tf.data.experimental.AUTOTUNE\n",
        "\n",
        "def prepare_dataset(X, y, batch_size=BATCH_SIZE, shuffle=True):\n",
        "    \"\"\"Оптимизация загрузки данных с tf.data.\"\"\"\n",
        "    dataset = tf.data.Dataset.from_tensor_slices((X, y))\n",
        "    if shuffle:\n",
        "        dataset = dataset.shuffle(buffer_size=len(X))\n",
        "    dataset = dataset.batch(batch_size).prefetch(AUTO)\n",
        "    return dataset\n",
        "\n",
        "def create_distilbert_classifier(preset=\"distil_bert_base_en_uncased\", sequence_length=150, num_classes=2):\n",
        "    \"\"\"Создает и возвращает классификатор DistilBERT.\"\"\"\n",
        "    preprocessor = keras_nlp.models.DistilBertPreprocessor.from_preset(\n",
        "        preset, sequence_length=sequence_length, name=\"preprocessor_4_tweets\"\n",
        "    )\n",
        "\n",
        "    classifier = keras_nlp.models.DistilBertClassifier.from_preset(\n",
        "        preset, preprocessor=preprocessor, num_classes=num_classes)\n",
        "\n",
        "    # Dropout и L2 регуляризацию\n",
        "    classifier.layers[-1].kernel_regularizer = tf.keras.regularizers.l2(0.01)\n",
        "    classifier.layers[-2].rate = 0.5\n",
        "\n",
        "    classifier.summary()\n",
        "    return classifier\n",
        "\n",
        "def compile_model(model):\n",
        "    \"\"\"Компилирует модель с заданными параметрами.\"\"\"\n",
        "    model.compile(\n",
        "        loss=keras.losses.SparseCategoricalCrossentropy(from_logits=True),\n",
        "        optimizer=tf.keras.optimizers.Adam(LEARNING_RATE),\n",
        "        metrics=[\"accuracy\"]\n",
        "    )\n",
        "\n",
        "def train_model(model, X_train, y_train, X_val, y_val):\n",
        "    \"\"\"Обучает модель на тренировочных данных на GPU.\"\"\"\n",
        "    train_dataset = prepare_dataset(X_train, y_train)\n",
        "    val_dataset = prepare_dataset(X_val, y_val, shuffle=False)\n",
        "\n",
        "    gpus = tf.config.list_physical_devices('GPU')\n",
        "    if gpus:\n",
        "        print(\"Доступные GPU:\", gpus)\n",
        "        with tf.device('/GPU:0'):\n",
        "            return model.fit(\n",
        "                train_dataset,\n",
        "                epochs=EPOCHS,\n",
        "                validation_data=val_dataset,\n",
        "                callbacks=[\n",
        "                    tf.keras.callbacks.ReduceLROnPlateau(monitor=\"val_loss\", factor=0.5, patience=2, verbose=1),\n",
        "                    tf.keras.callbacks.EarlyStopping(monitor=\"val_loss\", patience=3, restore_best_weights=True, verbose=1)\n",
        "                ]\n",
        "            )\n",
        "    else:\n",
        "        print(\" GPU не найден, используется CPU\")\n",
        "        return model.fit(\n",
        "            train_dataset,\n",
        "            epochs=EPOCHS,\n",
        "            validation_data=val_dataset,\n",
        "            callbacks=[\n",
        "                tf.keras.callbacks.ReduceLROnPlateau(monitor=\"val_loss\", factor=0.5, patience=2, verbose=1),\n",
        "                tf.keras.callbacks.EarlyStopping(monitor=\"val_loss\", patience=3, restore_best_weights=True, verbose=1)\n",
        "            ]\n",
        "        )\n",
        "\n",
        "def display_confusion_matrix(y_true, y_pred, dataset_name):\n",
        "    \"\"\"Отображает матрицу путаницы и вычисляет F1-меру.\"\"\"\n",
        "    disp = ConfusionMatrixDisplay.from_predictions(\n",
        "        y_true,\n",
        "        np.argmax(y_pred, axis=1),\n",
        "        display_labels=[\"Not Disaster\", \"Disaster\"],\n",
        "        cmap=plt.cm.Blues\n",
        "    )\n",
        "\n",
        "    tn, fp, fn, tp = confusion_matrix(y_true, np.argmax(y_pred, axis=1)).ravel()\n",
        "    f1_score = tp / (tp + ((fn + fp) / 2))\n",
        "\n",
        "    disp.ax_.set_title(f\"Confusion Matrix on {dataset_name} Dataset -- F1 Score: {f1_score:.2f}\")\n",
        "    plt.show()\n",
        "\n",
        "def predict_and_evaluate(model, X_train, y_train, X_val, y_val):\n",
        "    \"\"\"Предсказывает результаты и отображает матрицы путаницы.\"\"\"\n",
        "    y_pred_train = model.predict(X_train)\n",
        "    display_confusion_matrix(y_train, y_pred_train, \"Training\")\n",
        "\n",
        "    y_pred_val = model.predict(X_val)\n",
        "    display_confusion_matrix(y_val, y_pred_val, \"Validation\")\n",
        "\n",
        "def generate_submission(model, X_test, submission_path=\"/content/drive/MyDrive/Architecture/sample_submission.csv\"):\n",
        "    \"\"\"Генерирует файл `submission.csv` с предсказанными значениями.\"\"\"\n",
        "    sample_submission = pd.read_csv(submission_path)\n",
        "    sample_submission[\"target\"] = np.argmax(tf.nn.softmax(model.predict(X_test)), axis=1)\n",
        "    sample_submission.to_csv(\"submission.csv\", index=False)\n",
        "    print(\"✔️ Submission file saved as 'submission.csv'\")"
      ]
    },
    {
      "cell_type": "markdown",
      "source": [
        "* prepare_dataset() – преобразует данные в формат tf.data.Dataset для эффективной загрузки.\n",
        "\n",
        "* create_distilbert_classifier() – создает модель DistilBERT с предобработкой (Tokenizer + Padding), добавляет регуляризацию (L2 и Dropout).\n",
        "\n",
        "* compile_model() – компилирует модель с оптимизатором Adam и метрикой accuracy.\n",
        "\n",
        "* train_model() – обучает модель на GPU (если доступен) с коллбеками:\n",
        "\n",
        "* ReduceLROnPlateau – уменьшает LR при застое.\n",
        "\n",
        "* EarlyStopping – останавливает обучение, если нет улучшений.\n",
        "\n",
        "* display_confusion_matrix() – строит матрицу ошибок и считает F1-меру.\n",
        "\n",
        "* predict_and_evaluate() – предсказывает на train/val и выводит метрики.\n",
        "\n",
        "* generate_submission() – формирует файл для отправки"
      ],
      "metadata": {
        "id": "r6ymS95tvnsX"
      }
    },
    {
      "cell_type": "code",
      "execution_count": 14,
      "metadata": {
        "execution": {
          "iopub.execute_input": "2025-05-01T07:22:39.896422Z",
          "iopub.status.busy": "2025-05-01T07:22:39.896100Z",
          "iopub.status.idle": "2025-05-01T07:31:16.351522Z",
          "shell.execute_reply": "2025-05-01T07:31:16.350555Z",
          "shell.execute_reply.started": "2025-05-01T07:22:39.896396Z"
        },
        "trusted": true,
        "colab": {
          "base_uri": "https://localhost:8080/",
          "height": 606
        },
        "id": "HThs-JDRhuGf",
        "outputId": "4bc59d5f-225d-4670-c842-bcafc5eecd5d"
      },
      "outputs": [
        {
          "output_type": "display_data",
          "data": {
            "text/plain": [
              "\u001b[1mPreprocessor: \"preprocessor_4_tweets\"\u001b[0m\n"
            ],
            "text/html": [
              "<pre style=\"white-space:pre;overflow-x:auto;line-height:normal;font-family:Menlo,'DejaVu Sans Mono',consolas,'Courier New',monospace\"><span style=\"font-weight: bold\">Preprocessor: \"preprocessor_4_tweets\"</span>\n",
              "</pre>\n"
            ]
          },
          "metadata": {}
        },
        {
          "output_type": "display_data",
          "data": {
            "text/plain": [
              "┏━━━━━━━━━━━━━━━━━━━━━━━━━━━━━━━━━━━━━━━━━━━━━━━━━━━━━━━━━━━━━━━┳━━━━━━━━━━━━━━━━━━━━━━━━━━━━━━━━━━━━━━━━━━┓\n",
              "┃\u001b[1m \u001b[0m\u001b[1mLayer (type)                                                 \u001b[0m\u001b[1m \u001b[0m┃\u001b[1m \u001b[0m\u001b[1m                                  Config\u001b[0m\u001b[1m \u001b[0m┃\n",
              "┡━━━━━━━━━━━━━━━━━━━━━━━━━━━━━━━━━━━━━━━━━━━━━━━━━━━━━━━━━━━━━━━╇━━━━━━━━━━━━━━━━━━━━━━━━━━━━━━━━━━━━━━━━━━┩\n",
              "│ distil_bert_tokenizer (\u001b[38;5;33mDistilBertTokenizer\u001b[0m)                   │                       Vocab size: \u001b[38;5;34m30,522\u001b[0m │\n",
              "└───────────────────────────────────────────────────────────────┴──────────────────────────────────────────┘\n"
            ],
            "text/html": [
              "<pre style=\"white-space:pre;overflow-x:auto;line-height:normal;font-family:Menlo,'DejaVu Sans Mono',consolas,'Courier New',monospace\">┏━━━━━━━━━━━━━━━━━━━━━━━━━━━━━━━━━━━━━━━━━━━━━━━━━━━━━━━━━━━━━━━┳━━━━━━━━━━━━━━━━━━━━━━━━━━━━━━━━━━━━━━━━━━┓\n",
              "┃<span style=\"font-weight: bold\"> Layer (type)                                                  </span>┃<span style=\"font-weight: bold\">                                   Config </span>┃\n",
              "┡━━━━━━━━━━━━━━━━━━━━━━━━━━━━━━━━━━━━━━━━━━━━━━━━━━━━━━━━━━━━━━━╇━━━━━━━━━━━━━━━━━━━━━━━━━━━━━━━━━━━━━━━━━━┩\n",
              "│ distil_bert_tokenizer (<span style=\"color: #0087ff; text-decoration-color: #0087ff\">DistilBertTokenizer</span>)                   │                       Vocab size: <span style=\"color: #00af00; text-decoration-color: #00af00\">30,522</span> │\n",
              "└───────────────────────────────────────────────────────────────┴──────────────────────────────────────────┘\n",
              "</pre>\n"
            ]
          },
          "metadata": {}
        },
        {
          "output_type": "display_data",
          "data": {
            "text/plain": [
              "\u001b[1mModel: \"distil_bert_text_classifier_1\"\u001b[0m\n"
            ],
            "text/html": [
              "<pre style=\"white-space:pre;overflow-x:auto;line-height:normal;font-family:Menlo,'DejaVu Sans Mono',consolas,'Courier New',monospace\"><span style=\"font-weight: bold\">Model: \"distil_bert_text_classifier_1\"</span>\n",
              "</pre>\n"
            ]
          },
          "metadata": {}
        },
        {
          "output_type": "display_data",
          "data": {
            "text/plain": [
              "┏━━━━━━━━━━━━━━━━━━━━━━━━━━━━━━━┳━━━━━━━━━━━━━━━━━━━━━━━━━━━┳━━━━━━━━━━━━━━━━━┳━━━━━━━━━━━━━━━━━━━━━━━━━━━━┓\n",
              "┃\u001b[1m \u001b[0m\u001b[1mLayer (type)                 \u001b[0m\u001b[1m \u001b[0m┃\u001b[1m \u001b[0m\u001b[1mOutput Shape             \u001b[0m\u001b[1m \u001b[0m┃\u001b[1m \u001b[0m\u001b[1m        Param #\u001b[0m\u001b[1m \u001b[0m┃\u001b[1m \u001b[0m\u001b[1mConnected to              \u001b[0m\u001b[1m \u001b[0m┃\n",
              "┡━━━━━━━━━━━━━━━━━━━━━━━━━━━━━━━╇━━━━━━━━━━━━━━━━━━━━━━━━━━━╇━━━━━━━━━━━━━━━━━╇━━━━━━━━━━━━━━━━━━━━━━━━━━━━┩\n",
              "│ padding_mask (\u001b[38;5;33mInputLayer\u001b[0m)     │ (\u001b[38;5;45mNone\u001b[0m, \u001b[38;5;45mNone\u001b[0m)              │               \u001b[38;5;34m0\u001b[0m │ -                          │\n",
              "├───────────────────────────────┼───────────────────────────┼─────────────────┼────────────────────────────┤\n",
              "│ token_ids (\u001b[38;5;33mInputLayer\u001b[0m)        │ (\u001b[38;5;45mNone\u001b[0m, \u001b[38;5;45mNone\u001b[0m)              │               \u001b[38;5;34m0\u001b[0m │ -                          │\n",
              "├───────────────────────────────┼───────────────────────────┼─────────────────┼────────────────────────────┤\n",
              "│ distil_bert_backbone          │ (\u001b[38;5;45mNone\u001b[0m, \u001b[38;5;45mNone\u001b[0m, \u001b[38;5;34m768\u001b[0m)         │      \u001b[38;5;34m66,362,880\u001b[0m │ padding_mask[\u001b[38;5;34m0\u001b[0m][\u001b[38;5;34m0\u001b[0m],        │\n",
              "│ (\u001b[38;5;33mDistilBertBackbone\u001b[0m)          │                           │                 │ token_ids[\u001b[38;5;34m0\u001b[0m][\u001b[38;5;34m0\u001b[0m]            │\n",
              "├───────────────────────────────┼───────────────────────────┼─────────────────┼────────────────────────────┤\n",
              "│ get_item_1 (\u001b[38;5;33mGetItem\u001b[0m)          │ (\u001b[38;5;45mNone\u001b[0m, \u001b[38;5;34m768\u001b[0m)               │               \u001b[38;5;34m0\u001b[0m │ distil_bert_backbone[\u001b[38;5;34m0\u001b[0m][\u001b[38;5;34m0\u001b[0m] │\n",
              "├───────────────────────────────┼───────────────────────────┼─────────────────┼────────────────────────────┤\n",
              "│ pooled_dense (\u001b[38;5;33mDense\u001b[0m)          │ (\u001b[38;5;45mNone\u001b[0m, \u001b[38;5;34m768\u001b[0m)               │         \u001b[38;5;34m590,592\u001b[0m │ get_item_1[\u001b[38;5;34m0\u001b[0m][\u001b[38;5;34m0\u001b[0m]           │\n",
              "├───────────────────────────────┼───────────────────────────┼─────────────────┼────────────────────────────┤\n",
              "│ output_dropout (\u001b[38;5;33mDropout\u001b[0m)      │ (\u001b[38;5;45mNone\u001b[0m, \u001b[38;5;34m768\u001b[0m)               │               \u001b[38;5;34m0\u001b[0m │ pooled_dense[\u001b[38;5;34m0\u001b[0m][\u001b[38;5;34m0\u001b[0m]         │\n",
              "├───────────────────────────────┼───────────────────────────┼─────────────────┼────────────────────────────┤\n",
              "│ logits (\u001b[38;5;33mDense\u001b[0m)                │ (\u001b[38;5;45mNone\u001b[0m, \u001b[38;5;34m2\u001b[0m)                 │           \u001b[38;5;34m1,538\u001b[0m │ output_dropout[\u001b[38;5;34m0\u001b[0m][\u001b[38;5;34m0\u001b[0m]       │\n",
              "└───────────────────────────────┴───────────────────────────┴─────────────────┴────────────────────────────┘\n"
            ],
            "text/html": [
              "<pre style=\"white-space:pre;overflow-x:auto;line-height:normal;font-family:Menlo,'DejaVu Sans Mono',consolas,'Courier New',monospace\">┏━━━━━━━━━━━━━━━━━━━━━━━━━━━━━━━┳━━━━━━━━━━━━━━━━━━━━━━━━━━━┳━━━━━━━━━━━━━━━━━┳━━━━━━━━━━━━━━━━━━━━━━━━━━━━┓\n",
              "┃<span style=\"font-weight: bold\"> Layer (type)                  </span>┃<span style=\"font-weight: bold\"> Output Shape              </span>┃<span style=\"font-weight: bold\">         Param # </span>┃<span style=\"font-weight: bold\"> Connected to               </span>┃\n",
              "┡━━━━━━━━━━━━━━━━━━━━━━━━━━━━━━━╇━━━━━━━━━━━━━━━━━━━━━━━━━━━╇━━━━━━━━━━━━━━━━━╇━━━━━━━━━━━━━━━━━━━━━━━━━━━━┩\n",
              "│ padding_mask (<span style=\"color: #0087ff; text-decoration-color: #0087ff\">InputLayer</span>)     │ (<span style=\"color: #00d7ff; text-decoration-color: #00d7ff\">None</span>, <span style=\"color: #00d7ff; text-decoration-color: #00d7ff\">None</span>)              │               <span style=\"color: #00af00; text-decoration-color: #00af00\">0</span> │ -                          │\n",
              "├───────────────────────────────┼───────────────────────────┼─────────────────┼────────────────────────────┤\n",
              "│ token_ids (<span style=\"color: #0087ff; text-decoration-color: #0087ff\">InputLayer</span>)        │ (<span style=\"color: #00d7ff; text-decoration-color: #00d7ff\">None</span>, <span style=\"color: #00d7ff; text-decoration-color: #00d7ff\">None</span>)              │               <span style=\"color: #00af00; text-decoration-color: #00af00\">0</span> │ -                          │\n",
              "├───────────────────────────────┼───────────────────────────┼─────────────────┼────────────────────────────┤\n",
              "│ distil_bert_backbone          │ (<span style=\"color: #00d7ff; text-decoration-color: #00d7ff\">None</span>, <span style=\"color: #00d7ff; text-decoration-color: #00d7ff\">None</span>, <span style=\"color: #00af00; text-decoration-color: #00af00\">768</span>)         │      <span style=\"color: #00af00; text-decoration-color: #00af00\">66,362,880</span> │ padding_mask[<span style=\"color: #00af00; text-decoration-color: #00af00\">0</span>][<span style=\"color: #00af00; text-decoration-color: #00af00\">0</span>],        │\n",
              "│ (<span style=\"color: #0087ff; text-decoration-color: #0087ff\">DistilBertBackbone</span>)          │                           │                 │ token_ids[<span style=\"color: #00af00; text-decoration-color: #00af00\">0</span>][<span style=\"color: #00af00; text-decoration-color: #00af00\">0</span>]            │\n",
              "├───────────────────────────────┼───────────────────────────┼─────────────────┼────────────────────────────┤\n",
              "│ get_item_1 (<span style=\"color: #0087ff; text-decoration-color: #0087ff\">GetItem</span>)          │ (<span style=\"color: #00d7ff; text-decoration-color: #00d7ff\">None</span>, <span style=\"color: #00af00; text-decoration-color: #00af00\">768</span>)               │               <span style=\"color: #00af00; text-decoration-color: #00af00\">0</span> │ distil_bert_backbone[<span style=\"color: #00af00; text-decoration-color: #00af00\">0</span>][<span style=\"color: #00af00; text-decoration-color: #00af00\">0</span>] │\n",
              "├───────────────────────────────┼───────────────────────────┼─────────────────┼────────────────────────────┤\n",
              "│ pooled_dense (<span style=\"color: #0087ff; text-decoration-color: #0087ff\">Dense</span>)          │ (<span style=\"color: #00d7ff; text-decoration-color: #00d7ff\">None</span>, <span style=\"color: #00af00; text-decoration-color: #00af00\">768</span>)               │         <span style=\"color: #00af00; text-decoration-color: #00af00\">590,592</span> │ get_item_1[<span style=\"color: #00af00; text-decoration-color: #00af00\">0</span>][<span style=\"color: #00af00; text-decoration-color: #00af00\">0</span>]           │\n",
              "├───────────────────────────────┼───────────────────────────┼─────────────────┼────────────────────────────┤\n",
              "│ output_dropout (<span style=\"color: #0087ff; text-decoration-color: #0087ff\">Dropout</span>)      │ (<span style=\"color: #00d7ff; text-decoration-color: #00d7ff\">None</span>, <span style=\"color: #00af00; text-decoration-color: #00af00\">768</span>)               │               <span style=\"color: #00af00; text-decoration-color: #00af00\">0</span> │ pooled_dense[<span style=\"color: #00af00; text-decoration-color: #00af00\">0</span>][<span style=\"color: #00af00; text-decoration-color: #00af00\">0</span>]         │\n",
              "├───────────────────────────────┼───────────────────────────┼─────────────────┼────────────────────────────┤\n",
              "│ logits (<span style=\"color: #0087ff; text-decoration-color: #0087ff\">Dense</span>)                │ (<span style=\"color: #00d7ff; text-decoration-color: #00d7ff\">None</span>, <span style=\"color: #00af00; text-decoration-color: #00af00\">2</span>)                 │           <span style=\"color: #00af00; text-decoration-color: #00af00\">1,538</span> │ output_dropout[<span style=\"color: #00af00; text-decoration-color: #00af00\">0</span>][<span style=\"color: #00af00; text-decoration-color: #00af00\">0</span>]       │\n",
              "└───────────────────────────────┴───────────────────────────┴─────────────────┴────────────────────────────┘\n",
              "</pre>\n"
            ]
          },
          "metadata": {}
        },
        {
          "output_type": "display_data",
          "data": {
            "text/plain": [
              "\u001b[1m Total params: \u001b[0m\u001b[38;5;34m66,955,010\u001b[0m (255.41 MB)\n"
            ],
            "text/html": [
              "<pre style=\"white-space:pre;overflow-x:auto;line-height:normal;font-family:Menlo,'DejaVu Sans Mono',consolas,'Courier New',monospace\"><span style=\"font-weight: bold\"> Total params: </span><span style=\"color: #00af00; text-decoration-color: #00af00\">66,955,010</span> (255.41 MB)\n",
              "</pre>\n"
            ]
          },
          "metadata": {}
        },
        {
          "output_type": "display_data",
          "data": {
            "text/plain": [
              "\u001b[1m Trainable params: \u001b[0m\u001b[38;5;34m66,955,010\u001b[0m (255.41 MB)\n"
            ],
            "text/html": [
              "<pre style=\"white-space:pre;overflow-x:auto;line-height:normal;font-family:Menlo,'DejaVu Sans Mono',consolas,'Courier New',monospace\"><span style=\"font-weight: bold\"> Trainable params: </span><span style=\"color: #00af00; text-decoration-color: #00af00\">66,955,010</span> (255.41 MB)\n",
              "</pre>\n"
            ]
          },
          "metadata": {}
        },
        {
          "output_type": "display_data",
          "data": {
            "text/plain": [
              "\u001b[1m Non-trainable params: \u001b[0m\u001b[38;5;34m0\u001b[0m (0.00 B)\n"
            ],
            "text/html": [
              "<pre style=\"white-space:pre;overflow-x:auto;line-height:normal;font-family:Menlo,'DejaVu Sans Mono',consolas,'Courier New',monospace\"><span style=\"font-weight: bold\"> Non-trainable params: </span><span style=\"color: #00af00; text-decoration-color: #00af00\">0</span> (0.00 B)\n",
              "</pre>\n"
            ]
          },
          "metadata": {}
        },
        {
          "output_type": "stream",
          "name": "stdout",
          "text": [
            "Доступные GPU: [PhysicalDevice(name='/physical_device:GPU:0', device_type='GPU')]\n",
            "Epoch 1/2\n",
            "\u001b[1m191/191\u001b[0m \u001b[32m━━━━━━━━━━━━━━━━━━━━\u001b[0m\u001b[37m\u001b[0m \u001b[1m157s\u001b[0m 609ms/step - accuracy: 0.6612 - loss: 0.6251 - val_accuracy: 0.8345 - val_loss: 0.4169 - learning_rate: 5.0000e-06\n",
            "Epoch 2/2\n",
            "\u001b[1m191/191\u001b[0m \u001b[32m━━━━━━━━━━━━━━━━━━━━\u001b[0m\u001b[37m\u001b[0m \u001b[1m97s\u001b[0m 509ms/step - accuracy: 0.8388 - loss: 0.4028 - val_accuracy: 0.8227 - val_loss: 0.4088 - learning_rate: 5.0000e-06\n",
            "Restoring model weights from the end of the best epoch: 2.\n"
          ]
        }
      ],
      "source": [
        "# Вызов всех функций\n",
        "classifier = create_distilbert_classifier()\n",
        "compile_model(classifier)\n",
        "history = train_model(classifier, X_train, y_train, X_val, y_val)  # Обучение с оптимизациями"
      ]
    },
    {
      "cell_type": "code",
      "execution_count": 15,
      "metadata": {
        "execution": {
          "iopub.execute_input": "2025-05-01T07:31:50.182027Z",
          "iopub.status.busy": "2025-05-01T07:31:50.181682Z",
          "iopub.status.idle": "2025-05-01T07:32:38.498754Z",
          "shell.execute_reply": "2025-05-01T07:32:38.497779Z",
          "shell.execute_reply.started": "2025-05-01T07:31:50.182000Z"
        },
        "trusted": true,
        "id": "gH_zdEnlhuGg",
        "colab": {
          "base_uri": "https://localhost:8080/",
          "height": 962
        },
        "outputId": "ac61563a-c97a-4a0b-e0a2-5b09623c68d7"
      },
      "outputs": [
        {
          "output_type": "stream",
          "name": "stdout",
          "text": [
            "\u001b[1m191/191\u001b[0m \u001b[32m━━━━━━━━━━━━━━━━━━━━\u001b[0m\u001b[37m\u001b[0m \u001b[1m30s\u001b[0m 146ms/step\n"
          ]
        },
        {
          "output_type": "display_data",
          "data": {
            "text/plain": [
              "<Figure size 640x480 with 2 Axes>"
            ],
            "image/png": "[encoded data removed]"
          },
          "metadata": {}
        },
        {
          "output_type": "stream",
          "name": "stdout",
          "text": [
            "\u001b[1m48/48\u001b[0m \u001b[32m━━━━━━━━━━━━━━━━━━━━\u001b[0m\u001b[37m\u001b[0m \u001b[1m8s\u001b[0m 157ms/step\n"
          ]
        },
        {
          "output_type": "display_data",
          "data": {
            "text/plain": [
              "<Figure size 640x480 with 2 Axes>"
            ],
            "image/png": "[encoded data removed]"
          },
          "metadata": {}
        }
      ],
      "source": [
        "predict_and_evaluate(classifier, X_train, y_train, X_val, y_val)"
      ]
    },
    {
      "cell_type": "markdown",
      "source": [
        "Матрица ошибок для обучающего набора данных:\n",
        "* F1 Score: 0.84\n",
        "* Not Disaster (Истинный класс): 3258 правильных предсказаний, 210 неправильных предсказаний (классифицировано как Disaster).\n",
        "* Disaster (Истинный класс): 592 неправильных предсказаний (классифицировано как Not Disaster), 2030 правильных предсказаний.\n",
        "\n",
        "Матрица ошибок для валидационного набора данных:\n",
        "* F1 Score: 0.81\n",
        "* Not Disaster (Истинный класс): 804 правильных предсказаний, 70 неправильных предсказаний (классифицировано как Disaster).\n",
        "* Disaster (Истинный класс): 163 неправильных предсказаний (классифицировано как Not Disaster), 486 правильных предсказаний."
      ],
      "metadata": {
        "id": "IMUqEMl5wXSv"
      }
    },
    {
      "cell_type": "markdown",
      "metadata": {
        "id": "m75BbekFhuGg"
      },
      "source": [
        "## Визуализация результатов"
      ]
    },
    {
      "cell_type": "code",
      "execution_count": 16,
      "metadata": {
        "execution": {
          "iopub.execute_input": "2025-05-01T07:55:06.900422Z",
          "iopub.status.busy": "2025-05-01T07:55:06.900099Z",
          "iopub.status.idle": "2025-05-01T07:55:12.144525Z",
          "shell.execute_reply": "2025-05-01T07:55:12.143628Z",
          "shell.execute_reply.started": "2025-05-01T07:55:06.900393Z"
        },
        "trusted": true,
        "id": "W0kMeCKKhuGg",
        "colab": {
          "base_uri": "https://localhost:8080/"
        },
        "outputId": "2aef35b7-4505-419b-9a21-a3cafaa1b0db"
      },
      "outputs": [
        {
          "output_type": "stream",
          "name": "stdout",
          "text": [
            "Collecting tensorflow-addons\n",
            "  Downloading tensorflow_addons-0.23.0-cp311-cp311-manylinux_2_17_x86_64.manylinux2014_x86_64.whl.metadata (1.8 kB)\n",
            "Requirement already satisfied: packaging in /usr/local/lib/python3.11/dist-packages (from tensorflow-addons) (24.2)\n",
            "Collecting typeguard<3.0.0,>=2.7 (from tensorflow-addons)\n",
            "  Downloading typeguard-2.13.3-py3-none-any.whl.metadata (3.6 kB)\n",
            "Downloading tensorflow_addons-0.23.0-cp311-cp311-manylinux_2_17_x86_64.manylinux2014_x86_64.whl (611 kB)\n",
            "\u001b[?25l   \u001b[90m━━━━━━━━━━━━━━━━━━━━━━━━━━━━━━━━━━━━━━━━\u001b[0m \u001b[32m0.0/611.8 kB\u001b[0m \u001b[31m?\u001b[0m eta \u001b[36m-:--:--\u001b[0m\r\u001b[2K   \u001b[91m━━━━━━━━━━━━━━━━━━━━━━━━━━━━━━━━━━━━━━━\u001b[0m\u001b[90m╺\u001b[0m \u001b[32m604.2/611.8 kB\u001b[0m \u001b[31m19.3 MB/s\u001b[0m eta \u001b[36m0:00:01\u001b[0m\r\u001b[2K   \u001b[90m━━━━━━━━━━━━━━━━━━━━━━━━━━━━━━━━━━━━━━━━\u001b[0m \u001b[32m611.8/611.8 kB\u001b[0m \u001b[31m14.7 MB/s\u001b[0m eta \u001b[36m0:00:00\u001b[0m\n",
            "\u001b[?25hDownloading typeguard-2.13.3-py3-none-any.whl (17 kB)\n",
            "Installing collected packages: typeguard, tensorflow-addons\n",
            "  Attempting uninstall: typeguard\n",
            "    Found existing installation: typeguard 4.4.2\n",
            "    Uninstalling typeguard-4.4.2:\n",
            "      Successfully uninstalled typeguard-4.4.2\n",
            "\u001b[31mERROR: pip's dependency resolver does not currently take into account all the packages that are installed. This behaviour is the source of the following dependency conflicts.\n",
            "inflect 7.5.0 requires typeguard>=4.0.1, but you have typeguard 2.13.3 which is incompatible.\u001b[0m\u001b[31m\n",
            "\u001b[0mSuccessfully installed tensorflow-addons-0.23.0 typeguard-2.13.3\n"
          ]
        }
      ],
      "source": [
        "!pip install tensorflow-addons\n"
      ]
    },
    {
      "cell_type": "code",
      "execution_count": 17,
      "metadata": {
        "execution": {
          "iopub.execute_input": "2025-05-01T07:17:35.507310Z",
          "iopub.status.busy": "2025-05-01T07:17:35.507015Z",
          "iopub.status.idle": "2025-05-01T07:17:54.295201Z",
          "shell.execute_reply": "2025-05-01T07:17:54.294246Z",
          "shell.execute_reply.started": "2025-05-01T07:17:35.507288Z"
        },
        "trusted": true,
        "id": "m_RgY1ymhuGh",
        "colab": {
          "base_uri": "https://localhost:8080/"
        },
        "outputId": "050f34cf-4eb9-4ea4-8c00-f38035f42b0c"
      },
      "outputs": [
        {
          "output_type": "stream",
          "name": "stdout",
          "text": [
            "\u001b[1m102/102\u001b[0m \u001b[32m━━━━━━━━━━━━━━━━━━━━\u001b[0m\u001b[37m\u001b[0m \u001b[1m19s\u001b[0m 174ms/step\n",
            "✔️ Submission file saved as 'submission.csv'\n"
          ]
        }
      ],
      "source": [
        "\n",
        "generate_submission(classifier, X_test)"
      ]
    },
    {
      "cell_type": "code",
      "execution_count": 18,
      "metadata": {
        "execution": {
          "iopub.execute_input": "2025-05-01T07:33:00.351168Z",
          "iopub.status.busy": "2025-05-01T07:33:00.350862Z",
          "iopub.status.idle": "2025-05-01T07:33:00.357466Z",
          "shell.execute_reply": "2025-05-01T07:33:00.356577Z",
          "shell.execute_reply.started": "2025-05-01T07:33:00.351146Z"
        },
        "trusted": true,
        "id": "zjYJb4J2huGh"
      },
      "outputs": [],
      "source": [
        "def plot_training_history(history):\n",
        "    \"\"\"Строит график обучения модели.\"\"\"\n",
        "    history_dict = history.history\n",
        "\n",
        "    acc = history_dict[\"accuracy\"]\n",
        "    val_acc = history_dict[\"val_accuracy\"]\n",
        "    loss = history_dict[\"loss\"]\n",
        "    val_loss = history_dict[\"val_loss\"]\n",
        "\n",
        "    epochs = range(1, len(acc) + 1)\n",
        "\n",
        "    fig = plt.figure(figsize=(10, 6))\n",
        "    fig.tight_layout()\n",
        "\n",
        "    plt.subplot(2, 1, 1)\n",
        "    plt.plot(epochs, loss, \"r\", label=\"Training loss\")\n",
        "    plt.plot(epochs, val_loss, \"b\", label=\"Validation loss\")\n",
        "    plt.title(\"Training and validation loss\")\n",
        "    plt.ylabel(\"Loss\")\n",
        "    plt.legend()\n",
        "\n",
        "    plt.subplot(2, 1, 2)\n",
        "    plt.plot(epochs, acc, \"r\", label=\"Training accuracy\")\n",
        "    plt.plot(epochs, val_acc, \"b\", label=\"Validation accuracy\")\n",
        "    plt.title(\"Training and validation accuracy\")\n",
        "    plt.xlabel(\"Epochs\")\n",
        "    plt.ylabel(\"Accuracy\")\n",
        "    plt.legend(loc=\"lower right\")\n",
        "\n",
        "    plt.show()"
      ]
    },
    {
      "cell_type": "code",
      "execution_count": 19,
      "metadata": {
        "execution": {
          "iopub.execute_input": "2025-05-01T07:33:04.058885Z",
          "iopub.status.busy": "2025-05-01T07:33:04.058557Z",
          "iopub.status.idle": "2025-05-01T07:33:04.429343Z",
          "shell.execute_reply": "2025-05-01T07:33:04.428388Z",
          "shell.execute_reply.started": "2025-05-01T07:33:04.058857Z"
        },
        "trusted": true,
        "id": "0G8FDd_ehuGh",
        "colab": {
          "base_uri": "https://localhost:8080/",
          "height": 564
        },
        "outputId": "3e202693-1239-436a-af6f-22b4d652733c"
      },
      "outputs": [
        {
          "output_type": "display_data",
          "data": {
            "text/plain": [
              "<Figure size 1000x600 with 2 Axes>"
            ],
            "image/png": "[encoded data removed]"
          },
          "metadata": {}
        }
      ],
      "source": [
        "plot_training_history(history)  # Вызов функции визуализации"
      ]
    },
    {
      "cell_type": "markdown",
      "source": [
        "Модель демонстрирует хорошее обучение, так как потери на обучающем наборе данных уменьшаются, а точность увеличивается.\n",
        "\n",
        "Стабильность потерь и точности на валидационном наборе данных указывает на то, что модель не переобучается и сохраняет хорошую производительность на новых, невиданных данных.\n",
        "\n",
        "В целом, модель показывает хорошие результаты как на обучающем, так и на валидационном наборах данных."
      ],
      "metadata": {
        "id": "Gk_wduSqws8-"
      }
    }
  ],
  "metadata": {
    "kaggle": {
      "accelerator": "nvidiaTeslaT4",
      "dataSources": [
        {
          "databundleVersionId": 869809,
          "sourceId": 17777,
          "sourceType": "competition"
        },
        {
          "modelId": 2821,
          "modelInstanceId": 4689,
          "sourceId": 6068,
          "sourceType": "modelInstanceVersion"
        }
      ],
      "dockerImageVersionId": 30918,
      "isGpuEnabled": true,
      "isInternetEnabled": true,
      "language": "python",
      "sourceType": "notebook"
    },
    "kernelspec": {
      "display_name": "Python 3",
      "name": "python3"
    },
    "language_info": {
      "codemirror_mode": {
        "name": "ipython",
        "version": 3
      },
      "file_extension": ".py",
      "mimetype": "text/x-python",
      "name": "python",
      "nbconvert_exporter": "python",
      "pygments_lexer": "ipython3",
      "version": "3.10.12"
    },
    "colab": {
      "provenance": [],
      "gpuType": "T4"
    },
    "accelerator": "GPU"
  },
  "nbformat": 4,
  "nbformat_minor": 0
}